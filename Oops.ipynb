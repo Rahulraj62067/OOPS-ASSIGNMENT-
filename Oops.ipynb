{
  "nbformat": 4,
  "nbformat_minor": 0,
  "metadata": {
    "colab": {
      "provenance": []
    },
    "kernelspec": {
      "name": "python3",
      "display_name": "Python 3"
    },
    "language_info": {
      "name": "python"
    }
  },
  "cells": [
    {
      "cell_type": "markdown",
      "source": [
        "#Oops Assignment Theory"
      ],
      "metadata": {
        "id": "87MBU-MxiYLD"
      }
    },
    {
      "cell_type": "markdown",
      "source": [
        "1. What is Object-Oriented Programming (OOP)?                                   \n",
        "->Object-Oriented Programming (OOP) is a programming paradigm based on          \n",
        "  organizing code into \"objects\" that represent real-world entities. Each object  combines data (attributes) and behaviors (methods) into a single unit. Key      concepts of OOP include:                                                        \n",
        "1.Encapsulation: Bundling data and methods together, restricting direct access  \n",
        "  to some components.                                                             \n",
        "2.Inheritance: Enabling new objects to inherit properties and methods from      existing ones.                                                                  \n",
        "3.Polymorphism: Allowing objects to take on multiple forms, typically through   method overriding.                                                              \n",
        "4.Abstraction: Hiding complex details and showing only the essential features.  \n",
        "\n",
        "It helps make code more modular, reusable, and easier to maintain."
      ],
      "metadata": {
        "id": "2s46LBgyiiwr"
      }
    },
    {
      "cell_type": "markdown",
      "source": [
        "2. What is a class in OOP?                                                      \n",
        "->A class in OOP is a blueprint for creating objects, defining their attributes\n",
        "  (data) and methods (behaviors). It serves as a template to model real-world   entities."
      ],
      "metadata": {
        "id": "1HT4PamMj_Ct"
      }
    },
    {
      "cell_type": "markdown",
      "source": [
        "3. What is an object in OOP?                                                    \n",
        "->   An object in OOP is an instance of a class, representing a specific entity with defined attributes (data) and methods (behaviors). It is a concrete         realization of the class blueprint."
      ],
      "metadata": {
        "id": "6q115jJekmjE"
      }
    },
    {
      "cell_type": "markdown",
      "source": [
        "4. What is the difference between abstraction and encapsulation?                \n",
        "-> Abstraction focuses on hiding implementation details and showing only        essential features, simplifying complexity.                                     \n",
        "-Encapsulation involves bundling data and methods together within a class and   restricting access to protect data integrity."
      ],
      "metadata": {
        "id": "lwlKpufblG5m"
      }
    },
    {
      "cell_type": "markdown",
      "source": [
        "5. What are dunder methods in Python?                                           \n",
        "-> Dunder methods (short for \"double underscore\" methods) in Python are special methods surrounded by __ (e.g., __init__, __str__) that define object behaviors for built-in operations. They allow customization of class functionality, like  initialization, string representation, and operator overloading.            "
      ],
      "metadata": {
        "id": "Cb8Ea8PMlmhU"
      }
    },
    {
      "cell_type": "markdown",
      "source": [
        "6. Explain the concept of inheritance in OOP.                                   \n",
        "-> Inheritance in OOP allows a class (child) to inherit attributes and methods  from another class (parent), promoting code reuse and creating a hierarchy. The child class can extend or override the parent's functionality."
      ],
      "metadata": {
        "id": "UWMh97kmmJOC"
      }
    },
    {
      "cell_type": "markdown",
      "source": [
        "7. What is polymorphism in OOP?                                                 \n",
        "-> Polymorphism in OOP allows objects of different classes to be treated as     instances of the same class through a common interface. It enables methods to   have different implementations depending on the object calling them."
      ],
      "metadata": {
        "id": "ulHCqpwKmmy8"
      }
    },
    {
      "cell_type": "markdown",
      "source": [
        "8. How is encapsulation achieved in Python?                                     \n",
        "-> In Python, encapsulation is achieved by defining class attributes and        methods as private (using a single _ or double __ before their names) and       providing controlled access through public methods like getters and setters."
      ],
      "metadata": {
        "id": "kAgnQ0bqnFOd"
      }
    },
    {
      "cell_type": "markdown",
      "source": [
        "9. What is a constructor in Python?                                             \n",
        "-> A constructor in Python is a special method, __init__, used to initialize an object’s attributes when it is created. It is called automatically during       object instantiation."
      ],
      "metadata": {
        "id": "qw0WpJTensmX"
      }
    },
    {
      "cell_type": "markdown",
      "source": [
        "10.  What are class and static methods in Python?                               \n",
        "->   Class methods in Python are defined using the @classmethod decorator and   take cls as the first argument. They can access and modify class-level          attributes.                                                                     \n",
        "-Static methods are defined using the @staticmethod decorator and don't take    self or cls as the first argument. They don't depend on object or class state   and are used for utility functions related to the class.       "
      ],
      "metadata": {
        "id": "fz-4ahkKoEoy"
      }
    },
    {
      "cell_type": "markdown",
      "source": [
        "11. What is method overloading in Python?                                       \n",
        "->  Method overloading in Python refers to defining multiple methods with the   same name but different parameters. However, Python does not support            traditional method overloading. Instead, it allows default arguments or         variable-length arguments to achieve similar functionality."
      ],
      "metadata": {
        "id": "egAGnbUSotv-"
      }
    },
    {
      "cell_type": "markdown",
      "source": [
        "12. What is method overriding in OOP?                                           \n",
        "->  Method overriding in OOP occurs when a subclass provides its own            implementation of a method that is already defined in its superclass, allowing  the subclass to modify or extend the inherited behavior.\n",
        "\n",
        "\n",
        "\n",
        "\n",
        "\n",
        "\n"
      ],
      "metadata": {
        "id": "dibbt2UFpXF_"
      }
    },
    {
      "cell_type": "markdown",
      "source": [
        "13. What is a property decorator in Python?                                     \n",
        "->  The property decorator in Python is used to define a method as a property,  allowing it to be accessed like an attribute. It provides a way to add getter, setter, and deleter methods to control access to an object's attributes."
      ],
      "metadata": {
        "id": "khGbmpWdpv43"
      }
    },
    {
      "cell_type": "markdown",
      "source": [
        "14. Why is polymorphism important in OOP?                                       \n",
        "->  Polymorphism is important in OOP because it allows different objects to be  treated uniformly, enabling flexibility and code reuse. It helps in writing     more generic and scalable code by allowing methods to operate on objects of     different types."
      ],
      "metadata": {
        "id": "fn_vBkdXqHzk"
      }
    },
    {
      "cell_type": "markdown",
      "source": [
        "15. What is an abstract class in Python?                                        \n",
        "->  An abstract class in Python is a class that cannot be instantiated directly and may contain abstract methods (methods without implementation). It is        defined using the ABC (Abstract Base Class) module and is meant to be           subclassed by other classes that provide concrete implementations of the        abstract methods."
      ],
      "metadata": {
        "id": "XdP46uiKqjrF"
      }
    },
    {
      "cell_type": "markdown",
      "source": [
        "16. What are the advantages of OOP?                                             \n",
        "->  The advantages of OOP include:\n",
        "\n",
        "1.Modularity: Code is organized into classes and objects, making it easier to   manage and understand.                                                          \n",
        "2.Reusability: Code can be reused through inheritance and polymorphism.         \n",
        "3.Maintainability: OOP makes it easier to update and maintain code by isolating changes within specific objects.                                                \n",
        "4.Encapsulation: It protects object data and ensures controlled access through  methods.                                                                        \n",
        "5.Abstraction: Complex systems are simplified by focusing on essential features and hiding unnecessary details.\n",
        "\n",
        "\n",
        "\n",
        "\n",
        "\n"
      ],
      "metadata": {
        "id": "kyMQcd4Dq-Hd"
      }
    },
    {
      "cell_type": "markdown",
      "source": [
        "17.  What is the difference between a class variable and an instance variable?  \n",
        "->   Class variable: Shared by all instances of the class, defined within the   class and accessible by the class name or any object of the class.              \n",
        "- Instance variable: Unique to each object, defined within methods (typically   __init__), and accessed through individual object instances.\n",
        "\n",
        "\n",
        "\n",
        "\n",
        "\n",
        "\n",
        "\n",
        "\n",
        "\n",
        "\n",
        "\n"
      ],
      "metadata": {
        "id": "B6DPu_2jrv72"
      }
    },
    {
      "cell_type": "markdown",
      "source": [
        "18. What is multiple inheritance in Python?                                     \n",
        "->  Multiple inheritance in Python occurs when a class inherits from more than  one parent class, allowing it to inherit attributes and methods from multiple   classes. This enables the class to combine functionality from multiple sources.\n"
      ],
      "metadata": {
        "id": "INrW02d3vkXn"
      }
    },
    {
      "cell_type": "markdown",
      "source": [
        "19. Explain the purpose of ‘’__str__’ and ‘__repr__’ ‘ methods in Python.       \n",
        "->  _str__: Defines the string representation of an object for human-readable   output, typically used by print() and str().                                    \n",
        "-__repr__: Defines the official string representation of an object, used for    debugging and logging, and ideally should return a valid Python expression that can recreate the object."
      ],
      "metadata": {
        "id": "nTXdLMZJwBF2"
      }
    },
    {
      "cell_type": "markdown",
      "source": [
        "20. What is the significance of the ‘super()’ function in Python?               \n",
        "->  The super() function in Python is used to call a method from a parent       class, allowing access to inherited methods and attributes. It is commonly used in method overriding to extend or customize the behavior of the parent class."
      ],
      "metadata": {
        "id": "rmrWc1lawk9C"
      }
    },
    {
      "cell_type": "markdown",
      "source": [
        "21. What is the significance of the __del__ method in Python?                   \n",
        "->  The __del__ method in Python is a destructor called automatically when an   object is about to be destroyed. It is used to release resources, such as       closing files or network connections, before the object is garbage collected."
      ],
      "metadata": {
        "id": "8gdCg8PIw5fd"
      }
    },
    {
      "cell_type": "markdown",
      "source": [
        "22. What is the difference between @staticmethod and @classmethod in Python?    \n",
        "->  @staticmethod: Defines a method that doesn’t access the instance (self) or  the class (cls). It’s used for utility functions related to the class.          \n",
        "-@classmethod: Defines a method that takes cls as its first parameter and can   access or modify class-level attributes."
      ],
      "metadata": {
        "id": "5ZScfn23xNVk"
      }
    },
    {
      "cell_type": "markdown",
      "source": [
        "23.  How does polymorphism work in Python with inheritance?                     \n",
        "->   In Python, polymorphism with inheritance works by allowing a subclass to   override methods from its parent class. This enables objects of different       \n",
        "classes in the same hierarchy to use the same method name but provide different behaviors, depending on their class."
      ],
      "metadata": {
        "id": "5CEMhLPYxlnm"
      }
    },
    {
      "cell_type": "markdown",
      "source": [
        "24. What is method chaining in Python OOP?                                      \n",
        "->  Method chaining in Python OOP is a technique where multiple methods are     called on the same object in a single statement. Each method returns the object itself (self), allowing successive method calls."
      ],
      "metadata": {
        "id": "OFFbgXQgx6IN"
      }
    },
    {
      "cell_type": "markdown",
      "source": [
        "25. What is the purpose of the __call__ method in Python?                       \n",
        "->  The __call__ method in Python allows an object to be called like a          function. Defining __call__ in a class lets you execute custom logic when the   object is invoked as if it were a function."
      ],
      "metadata": {
        "id": "b6WEowq2yv3N"
      }
    },
    {
      "cell_type": "markdown",
      "source": [
        "##Oops Assignment"
      ],
      "metadata": {
        "id": "dfQL9Rxv0A7q"
      }
    },
    {
      "cell_type": "markdown",
      "source": [
        "1.Create a parent class Animal with a method speak() that prints a generic      message. Create a child class Dog                                               \n",
        "that overrides the speak() method to print \"Bark!\""
      ],
      "metadata": {
        "id": "LCsVpZ4D0PI-"
      }
    },
    {
      "cell_type": "code",
      "source": [
        "class Animal:\n",
        "    def speak(self):\n",
        "        print(\"The animal makes a sound.\")\n",
        "\n",
        "class Dog(Animal):\n",
        "    def speak(self):\n",
        "        print(\"Bark!\")\n",
        "\n",
        "# Example usage\n",
        "generic_animal = Animal()\n",
        "generic_animal.speak()\n",
        "\n",
        "dog = Dog()\n",
        "dog.speak()"
      ],
      "metadata": {
        "colab": {
          "base_uri": "https://localhost:8080/"
        },
        "id": "nACayrjlpvJB",
        "outputId": "0e7eeac1-c2fa-4eac-aa94-eb097e834d0f"
      },
      "execution_count": 1,
      "outputs": [
        {
          "output_type": "stream",
          "name": "stdout",
          "text": [
            "The animal makes a sound.\n",
            "Bark!\n"
          ]
        }
      ]
    },
    {
      "cell_type": "markdown",
      "source": [
        "2. Write a program to create an abstract class Shape with a method area(). Derive classes Circle and Rectangle\n",
        "from it and implement the area() method in both."
      ],
      "metadata": {
        "id": "F9tKb3Yl0w2O"
      }
    },
    {
      "cell_type": "code",
      "source": [
        "from abc import ABC, abstractmethod\n",
        "\n",
        "class Shape(ABC):\n",
        "    @abstractmethod\n",
        "    def area(self):\n",
        "        pass\n",
        "\n",
        "class Circle(Shape):\n",
        "    def __init__(self, radius):\n",
        "        self.radius = radius\n",
        "\n",
        "    def area(self):\n",
        "        return 3.14159 * self.radius ** 2\n",
        "\n",
        "class Rectangle(Shape):\n",
        "    def __init__(self, width, height):\n",
        "        self.width = width\n",
        "        self.height = height\n",
        "\n",
        "    def area(self):\n",
        "        return self.width * self.height\n",
        "\n",
        "# Example usage\n",
        "circle = Circle(5)\n",
        "print(f\"Area of Circle: {circle.area()}\")\n",
        "\n",
        "rectangle = Rectangle(4, 6)\n",
        "print(f\"Area of Rectangle: {rectangle.area()}\")"
      ],
      "metadata": {
        "colab": {
          "base_uri": "https://localhost:8080/"
        },
        "id": "Kzq11MwE0l27",
        "outputId": "0dbfc4d9-6515-450f-9a4f-22f545581faa"
      },
      "execution_count": 2,
      "outputs": [
        {
          "output_type": "stream",
          "name": "stdout",
          "text": [
            "Area of Circle: 78.53975\n",
            "Area of Rectangle: 24\n"
          ]
        }
      ]
    },
    {
      "cell_type": "markdown",
      "source": [
        "3. Implement a multi-level inheritance scenario where a class Vehicle has an attribute type. Derive a class Car\n",
        "and further derive a class ElectricCar that adds a battery attribute."
      ],
      "metadata": {
        "id": "4A6eHvRK1jK7"
      }
    },
    {
      "cell_type": "code",
      "source": [
        "class Vehicle:\n",
        "    def __init__(self, vehicle_type):\n",
        "        self.vehicle_type = vehicle_type\n",
        "\n",
        "    def display_type(self):\n",
        "        print(f\"Vehicle Type: {self.vehicle_type}\")\n",
        "\n",
        "class Car(Vehicle):\n",
        "    def __init__(self, vehicle_type, brand):\n",
        "        super().__init__(vehicle_type)\n",
        "        self.brand = brand\n",
        "\n",
        "    def display_car_info(self):\n",
        "        print(f\"Car Brand: {self.brand}\")\n",
        "\n",
        "class ElectricCar(Car):\n",
        "    def __init__(self, vehicle_type, brand, battery_capacity):\n",
        "        super().__init__(vehicle_type, brand)\n",
        "        self.battery_capacity = battery_capacity\n",
        "\n",
        "    def display_battery_info(self):\n",
        "        print(f\"Battery Capacity: {self.battery_capacity} kWh\")\n",
        "\n",
        "# Example usage\n",
        "vehicle = Vehicle(\"General\")\n",
        "vehicle.display_type()\n",
        "\n",
        "car = Car(\"Car\", \"Toyota\")\n",
        "car.display_type()\n",
        "car.display_car_info()\n",
        "\n",
        "electric_car = ElectricCar(\"Electric Car\", \"Tesla\", 75)\n",
        "electric_car.display_type()\n",
        "electric_car.display_car_info()\n",
        "electric_car.display_battery_info()\n"
      ],
      "metadata": {
        "colab": {
          "base_uri": "https://localhost:8080/"
        },
        "id": "-ejNU6Gu06WM",
        "outputId": "c15ef07e-350e-4ce7-e9d0-34b7f25fb434"
      },
      "execution_count": 3,
      "outputs": [
        {
          "output_type": "stream",
          "name": "stdout",
          "text": [
            "Vehicle Type: General\n",
            "Vehicle Type: Car\n",
            "Car Brand: Toyota\n",
            "Vehicle Type: Electric Car\n",
            "Car Brand: Tesla\n",
            "Battery Capacity: 75 kWh\n"
          ]
        }
      ]
    },
    {
      "cell_type": "markdown",
      "source": [
        "4. Implement a multi-level inheritance scenario where a class Vehicle has an attribute type. Derive a class Car\n",
        "and further derive a class ElectricCar that adds a battery attribute."
      ],
      "metadata": {
        "id": "H_X1Xq1I2Tad"
      }
    },
    {
      "cell_type": "code",
      "source": [
        "class Vehicle:\n",
        "    def __init__(self, vehicle_type):\n",
        "        self.vehicle_type = vehicle_type\n",
        "\n",
        "    def display_type(self):\n",
        "        print(f\"Vehicle Type: {self.vehicle_type}\")\n",
        "\n",
        "class Car(Vehicle):\n",
        "    def __init__(self, vehicle_type, brand):\n",
        "        super().__init__(vehicle_type)\n",
        "        self.brand = brand\n",
        "\n",
        "    def display_car_info(self):\n",
        "        print(f\"Car Brand: {self.brand}\")\n",
        "\n",
        "class ElectricCar(Car):\n",
        "    def __init__(self, vehicle_type, brand, battery_capacity):\n",
        "        super().__init__(vehicle_type, brand)\n",
        "        self.battery_capacity = battery_capacity\n",
        "\n",
        "    def display_battery_info(self):\n",
        "        print(f\"Battery Capacity: {self.battery_capacity} kWh\")\n",
        "\n",
        "# Example usage\n",
        "vehicle = Vehicle(\"General Vehicle\")\n",
        "vehicle.display_type()\n",
        "\n",
        "car = Car(\"Car\", \"Honda\")\n",
        "car.display_type()\n",
        "car.display_car_info()\n",
        "\n",
        "electric_car = ElectricCar(\"Electric Car\", \"Tesla\", 100)\n",
        "electric_car.display_type()\n",
        "electric_car.display_car_info()\n",
        "electric_car.display_battery_info()\n"
      ],
      "metadata": {
        "colab": {
          "base_uri": "https://localhost:8080/"
        },
        "id": "via_J1jw2BIq",
        "outputId": "6a00ed6c-9287-4761-90f2-748265e07cfb"
      },
      "execution_count": 4,
      "outputs": [
        {
          "output_type": "stream",
          "name": "stdout",
          "text": [
            "Vehicle Type: General Vehicle\n",
            "Vehicle Type: Car\n",
            "Car Brand: Honda\n",
            "Vehicle Type: Electric Car\n",
            "Car Brand: Tesla\n",
            "Battery Capacity: 100 kWh\n"
          ]
        }
      ]
    },
    {
      "cell_type": "markdown",
      "source": [
        "5.Write a program to demonstrate encapsulation by creating a class BankAccount with private attributes\n",
        "balance and methods to deposit, withdraw, and check balance."
      ],
      "metadata": {
        "id": "rlEQiWef36ZE"
      }
    },
    {
      "cell_type": "code",
      "source": [
        "class BankAccount:\n",
        "    def __init__(self, initial_balance):\n",
        "        self.__balance = initial_balance  # Private attribute\n",
        "\n",
        "    # Method to deposit money\n",
        "    def deposit(self, amount):\n",
        "        if amount > 0:\n",
        "            self.__balance += amount\n",
        "            print(f\"Deposited: {amount}\")\n",
        "        else:\n",
        "            print(\"Deposit amount must be positive.\")\n",
        "\n",
        "    # Method to withdraw money\n",
        "    def withdraw(self, amount):\n",
        "        if amount > 0 and amount <= self.__balance:\n",
        "            self.__balance -= amount\n",
        "            print(f\"Withdrew: {amount}\")\n",
        "        else:\n",
        "            print(\"Insufficient balance or invalid amount.\")\n",
        "\n",
        "    # Method to check balance\n",
        "    def check_balance(self):\n",
        "        print(f\"Current Balance: {self.__balance}\")\n",
        "\n",
        "# Example usage\n",
        "account = BankAccount(1000)  # Creating an account with an initial balance\n",
        "account.check_balance()  # Checking initial balance\n",
        "\n",
        "account.deposit(500)  # Depositing money\n",
        "account.check_balance()  # Checking balance after deposit\n",
        "\n",
        "account.withdraw(200)  # Withdrawing money\n",
        "account.check_balance()  # Checking balance after withdrawal\n",
        "\n",
        "account.withdraw(2000)  # Trying to withdraw more than available balance"
      ],
      "metadata": {
        "colab": {
          "base_uri": "https://localhost:8080/"
        },
        "id": "fOBYqUt42zZt",
        "outputId": "f8b94b88-3cbb-4ab3-bd3a-0eb55db68cbd"
      },
      "execution_count": 5,
      "outputs": [
        {
          "output_type": "stream",
          "name": "stdout",
          "text": [
            "Current Balance: 1000\n",
            "Deposited: 500\n",
            "Current Balance: 1500\n",
            "Withdrew: 200\n",
            "Current Balance: 1300\n",
            "Insufficient balance or invalid amount.\n"
          ]
        }
      ]
    },
    {
      "cell_type": "markdown",
      "source": [
        "6. Demonstrate runtime polymorphism using a method play() in a base class Instrument. Derive classes Guitar\n",
        "and Piano that implement their own version of play()."
      ],
      "metadata": {
        "id": "PEuLx5D44OcM"
      }
    },
    {
      "cell_type": "code",
      "source": [
        "class Instrument:\n",
        "    def play(self):\n",
        "        print(\"Playing an instrument\")\n",
        "\n",
        "class Guitar(Instrument):\n",
        "    def play(self):\n",
        "        print(\"Playing the guitar\")\n",
        "\n",
        "class Piano(Instrument):\n",
        "    def play(self):\n",
        "        print(\"Playing the piano\")\n",
        "\n",
        "# Example usage\n",
        "instrument = Instrument()\n",
        "instrument.play()  # Base class method\n",
        "\n",
        "guitar = Guitar()\n",
        "guitar.play()  # Overridden method in Guitar class\n",
        "\n",
        "piano = Piano()\n",
        "piano.play()  # Overridden method in Piano class\n",
        "\n",
        "# Demonstrating runtime polymorphism\n",
        "instruments = [Instrument(), Guitar(), Piano()]\n",
        "for instrument in instruments:\n",
        "    instrument.play()  # Runtime polymorphism, calls the appropriate method"
      ],
      "metadata": {
        "colab": {
          "base_uri": "https://localhost:8080/"
        },
        "id": "b6QavPrF4Fs_",
        "outputId": "e0d51aba-821b-415e-9f18-307c87b18fcb"
      },
      "execution_count": 6,
      "outputs": [
        {
          "output_type": "stream",
          "name": "stdout",
          "text": [
            "Playing an instrument\n",
            "Playing the guitar\n",
            "Playing the piano\n",
            "Playing an instrument\n",
            "Playing the guitar\n",
            "Playing the piano\n"
          ]
        }
      ]
    },
    {
      "cell_type": "markdown",
      "source": [
        "7.Create a class MathOperations with a class method add_numbers() to add two numbers and a static\n",
        "method subtract_numbers() to subtract two numbers."
      ],
      "metadata": {
        "id": "OjPS2FO95Yh1"
      }
    },
    {
      "cell_type": "code",
      "source": [
        "class MathOperations:\n",
        "    @classmethod\n",
        "    def add_numbers(cls, num1, num2):\n",
        "        return num1 + num2\n",
        "\n",
        "    @staticmethod\n",
        "    def subtract_numbers(num1, num2):\n",
        "        return num1 - num2\n",
        "\n",
        "# Example usage\n",
        "sum_result = MathOperations.add_numbers(5, 3)\n",
        "print(f\"Sum: {sum_result}\")\n",
        "\n",
        "difference_result = MathOperations.subtract_numbers(5, 3)\n",
        "print(f\"Difference: {difference_result}\")\n"
      ],
      "metadata": {
        "colab": {
          "base_uri": "https://localhost:8080/"
        },
        "id": "QseUloGD482N",
        "outputId": "1702b9db-6ea7-48ab-dc95-6ab412de2d4c"
      },
      "execution_count": 7,
      "outputs": [
        {
          "output_type": "stream",
          "name": "stdout",
          "text": [
            "Sum: 8\n",
            "Difference: 2\n"
          ]
        }
      ]
    },
    {
      "cell_type": "markdown",
      "source": [
        "8. Implement a class Person with a class method to count the total number of persons created."
      ],
      "metadata": {
        "id": "mOe9_lJq54Sy"
      }
    },
    {
      "cell_type": "code",
      "source": [
        "class Person:\n",
        "    # Class variable to count persons\n",
        "    total_persons = 0\n",
        "\n",
        "    def __init__(self, name, age):\n",
        "        self.name = name\n",
        "        self.age = age\n",
        "        # Increment the counter each time a new person is created\n",
        "        Person.total_persons += 1\n",
        "\n",
        "    @classmethod\n",
        "    def get_total_persons(cls):\n",
        "        return cls.total_persons\n",
        "\n",
        "# Example usage\n",
        "person1 = Person(\"Alice\", 30)\n",
        "person2 = Person(\"Bob\", 25)\n",
        "person3 = Person(\"Charlie\", 35)\n",
        "\n",
        "# Calling the class method to get total number of persons created\n",
        "print(f\"Total number of persons created: {Person.get_total_persons()}\")\n"
      ],
      "metadata": {
        "colab": {
          "base_uri": "https://localhost:8080/"
        },
        "id": "bSow-KIi5vc7",
        "outputId": "e0878b62-2b4e-4214-eac6-4d56b47106af"
      },
      "execution_count": 8,
      "outputs": [
        {
          "output_type": "stream",
          "name": "stdout",
          "text": [
            "Total number of persons created: 3\n"
          ]
        }
      ]
    },
    {
      "cell_type": "markdown",
      "source": [
        "9. Write a class Fraction with attributes numerator and denominator. Override the str method to display the\n",
        "fraction as \"numerator/denominator\"."
      ],
      "metadata": {
        "id": "0cKcuuEh6bJi"
      }
    },
    {
      "cell_type": "code",
      "source": [
        "class Fraction:\n",
        "    def __init__(self, numerator, denominator):\n",
        "        self.numerator = numerator\n",
        "        self.denominator = denominator\n",
        "\n",
        "    # Overriding the __str__ method to display the fraction as \"numerator/denominator\"\n",
        "    def __str__(self):\n",
        "        return f\"{self.numerator}/{self.denominator}\"\n",
        "\n",
        "# Example usage\n",
        "fraction = Fraction(3, 4)\n",
        "print(fraction)  # Output will be \"3/4\"\n"
      ],
      "metadata": {
        "colab": {
          "base_uri": "https://localhost:8080/"
        },
        "id": "53FBhwFT6XB4",
        "outputId": "dab0c460-fb0d-4f7f-c4f9-b13bea16d39b"
      },
      "execution_count": 9,
      "outputs": [
        {
          "output_type": "stream",
          "name": "stdout",
          "text": [
            "3/4\n"
          ]
        }
      ]
    },
    {
      "cell_type": "markdown",
      "source": [
        "10. Demonstrate operator overloading by creating a class Vector and overriding the add method to add two\n",
        "vectors."
      ],
      "metadata": {
        "id": "opFfZX-L62Ni"
      }
    },
    {
      "cell_type": "code",
      "source": [
        "class Vector:\n",
        "    def __init__(self, x, y):\n",
        "        self.x = x\n",
        "        self.y = y\n",
        "\n",
        "    # Overloading the + operator using __add__\n",
        "    def __add__(self, other):\n",
        "        # Adding the corresponding components of the two vectors\n",
        "        return Vector(self.x + other.x, self.y + other.y)\n",
        "\n",
        "    def __str__(self):\n",
        "        return f\"({self.x}, {self.y})\"\n",
        "\n",
        "# Example usage\n",
        "vector1 = Vector(2, 3)\n",
        "vector2 = Vector(4, 5)\n",
        "\n",
        "# Adding the two vectors using the overloaded + operator\n",
        "result = vector1 + vector2\n",
        "\n",
        "# Printing the result\n",
        "print(f\"Result of vector addition: {result}\")\n"
      ],
      "metadata": {
        "colab": {
          "base_uri": "https://localhost:8080/"
        },
        "id": "81ce81Ht6rXs",
        "outputId": "26969935-94f8-43d3-d79d-d58d9755821b"
      },
      "execution_count": 10,
      "outputs": [
        {
          "output_type": "stream",
          "name": "stdout",
          "text": [
            "Result of vector addition: (6, 8)\n"
          ]
        }
      ]
    },
    {
      "cell_type": "markdown",
      "source": [
        "11.Create a class Person with attributes name and age. Add a method greet() that prints \"Hello, my name is\n",
        "{name} and I am {age} years old.\""
      ],
      "metadata": {
        "id": "iMogYVwA7QsG"
      }
    },
    {
      "cell_type": "code",
      "source": [
        "class Person:\n",
        "    def __init__(self, name, age):\n",
        "        self.name = name\n",
        "        self.age = age\n",
        "\n",
        "    def greet(self):\n",
        "        print(f\"Hello, my name is {self.name} and I am {self.age} years old.\")\n",
        "\n",
        "# Example usage\n",
        "person1 = Person(\"Alice\", 30)\n",
        "person1.greet()  # Output: \"Hello, my name is Alice and I am 30 years old.\"\n",
        "\n",
        "person2 = Person(\"Bob\", 25)\n",
        "person2.greet()  # Output: \"Hello, my name is Bob and I am 25 years old.\"\n"
      ],
      "metadata": {
        "colab": {
          "base_uri": "https://localhost:8080/"
        },
        "id": "MHqqEzoG7N85",
        "outputId": "a120d9dc-0f7f-48c2-decb-1962c9ae9539"
      },
      "execution_count": 11,
      "outputs": [
        {
          "output_type": "stream",
          "name": "stdout",
          "text": [
            "Hello, my name is Alice and I am 30 years old.\n",
            "Hello, my name is Bob and I am 25 years old.\n"
          ]
        }
      ]
    },
    {
      "cell_type": "markdown",
      "source": [
        "12. Implement a class Student with attributes name and grades. Create a method average_grade() to compute\n",
        "the average of the grades."
      ],
      "metadata": {
        "id": "ydCTnDfo7lDT"
      }
    },
    {
      "cell_type": "code",
      "source": [
        "class Student:\n",
        "    def __init__(self, name, grades):\n",
        "        self.name = name\n",
        "        self.grades = grades\n",
        "\n",
        "    def average_grade(self):\n",
        "        if len(self.grades) > 0:\n",
        "            return sum(self.grades) / len(self.grades)\n",
        "        else:\n",
        "            return 0\n",
        "\n",
        "# Example usage\n",
        "student1 = Student(\"Alice\", [85, 90, 78, 92])\n",
        "print(f\"{student1.name}'s average grade: {student1.average_grade()}\")\n",
        "\n",
        "student2 = Student(\"Bob\", [70, 75, 80, 85])\n",
        "print(f\"{student2.name}'s average grade: {student2.average_grade()}\")"
      ],
      "metadata": {
        "colab": {
          "base_uri": "https://localhost:8080/"
        },
        "id": "Pi5ZSKI-7jQC",
        "outputId": "155cfd45-806f-4090-f04d-aa68144849bb"
      },
      "execution_count": 12,
      "outputs": [
        {
          "output_type": "stream",
          "name": "stdout",
          "text": [
            "Alice's average grade: 86.25\n",
            "Bob's average grade: 77.5\n"
          ]
        }
      ]
    },
    {
      "cell_type": "markdown",
      "source": [
        "13. Create a class Rectangle with methods set_dimensions() to set the dimensions and area() to calculate the\n",
        "area."
      ],
      "metadata": {
        "id": "oS3h1jv178Zs"
      }
    },
    {
      "cell_type": "code",
      "source": [
        "class Rectangle:\n",
        "    def __init__(self):\n",
        "        self.length = 0\n",
        "        self.width = 0\n",
        "\n",
        "    # Method to set the dimensions of the rectangle\n",
        "    def set_dimensions(self, length, width):\n",
        "        self.length = length\n",
        "        self.width = width\n",
        "\n",
        "    # Method to calculate the area of the rectangle\n",
        "    def area(self):\n",
        "        return self.length * self.width\n",
        "\n",
        "# Example usage\n",
        "rectangle = Rectangle()\n",
        "rectangle.set_dimensions(5, 3)  # Setting length to 5 and width to 3\n",
        "print(f\"Area of the rectangle: {rectangle.area()}\")\n"
      ],
      "metadata": {
        "colab": {
          "base_uri": "https://localhost:8080/"
        },
        "id": "WDIHoQjs7yKo",
        "outputId": "3599f59b-d498-496d-a2fd-861b9440443d"
      },
      "execution_count": 13,
      "outputs": [
        {
          "output_type": "stream",
          "name": "stdout",
          "text": [
            "Area of the rectangle: 15\n"
          ]
        }
      ]
    },
    {
      "cell_type": "markdown",
      "source": [
        "14. Create a class Employee with a method calculate_salary() that computes the salary based on hours worked\n",
        "and hourly rate. Create a derived class Manager that adds a bonus to the salary."
      ],
      "metadata": {
        "id": "xnsAn_jb8Ofr"
      }
    },
    {
      "cell_type": "code",
      "source": [
        "class Employee:\n",
        "    def __init__(self, name, hours_worked, hourly_rate):\n",
        "        self.name = name\n",
        "        self.hours_worked = hours_worked\n",
        "        self.hourly_rate = hourly_rate\n",
        "\n",
        "    # Method to calculate salary for a regular employee\n",
        "    def calculate_salary(self):\n",
        "        return self.hours_worked * self.hourly_rate\n",
        "\n",
        "class Manager(Employee):\n",
        "    def __init__(self, name, hours_worked, hourly_rate, bonus):\n",
        "        super().__init__(name, hours_worked, hourly_rate)\n",
        "        self.bonus = bonus\n",
        "\n",
        "    # Overriding the calculate_salary method to include a bonus\n",
        "    def calculate_salary(self):\n",
        "        base_salary = super().calculate_salary()\n",
        "        return base_salary + self.bonus\n",
        "\n",
        "# Example usage\n",
        "employee = Employee(\"John\", 40, 20)\n",
        "print(f\"{employee.name}'s salary: ${employee.calculate_salary()}\")\n",
        "\n",
        "manager = Manager(\"Alice\", 40, 30, 500)\n",
        "print(f\"{manager.name}'s salary (including bonus): ${manager.calculate_salary()}\")"
      ],
      "metadata": {
        "colab": {
          "base_uri": "https://localhost:8080/"
        },
        "id": "e1X6MJ0-8DrE",
        "outputId": "1796d728-2cdf-483a-a065-697bb5a2414b"
      },
      "execution_count": 14,
      "outputs": [
        {
          "output_type": "stream",
          "name": "stdout",
          "text": [
            "John's salary: $800\n",
            "Alice's salary (including bonus): $1700\n"
          ]
        }
      ]
    },
    {
      "cell_type": "markdown",
      "source": [
        "15.Create a class Product with attributes name, price, and quantity. Implement a method total_price() that\n",
        "calculates the total price of the product."
      ],
      "metadata": {
        "id": "pjw-PTwD8n35"
      }
    },
    {
      "cell_type": "code",
      "source": [
        "class Product:\n",
        "    def __init__(self, name, price, quantity):\n",
        "        self.name = name\n",
        "        self.price = price\n",
        "        self.quantity = quantity\n",
        "\n",
        "    # Method to calculate the total price of the product\n",
        "    def total_price(self):\n",
        "        return self.price * self.quantity\n",
        "\n",
        "# Example usage\n",
        "product = Product(\"Laptop\", 1000, 3)\n",
        "print(f\"Total price of {product.name}: ${product.total_price()}\")\n",
        "\n",
        "product2 = Product(\"Smartphone\", 500, 5)\n",
        "print(f\"Total price of {product2.name}: ${product2.total_price()}\")\n"
      ],
      "metadata": {
        "colab": {
          "base_uri": "https://localhost:8080/"
        },
        "id": "AaXqle7J8kRX",
        "outputId": "18ef4fe7-7217-4860-9b04-690765d05e59"
      },
      "execution_count": 15,
      "outputs": [
        {
          "output_type": "stream",
          "name": "stdout",
          "text": [
            "Total price of Laptop: $3000\n",
            "Total price of Smartphone: $2500\n"
          ]
        }
      ]
    },
    {
      "cell_type": "markdown",
      "source": [
        "16.Create a class Animal with an abstract method sound(). Create two derived classes Cow and Sheep that\n",
        "implement the sound() method."
      ],
      "metadata": {
        "id": "eW21tCtj84mJ"
      }
    },
    {
      "cell_type": "code",
      "source": [
        "from abc import ABC, abstractmethod\n",
        "\n",
        "# Abstract base class\n",
        "class Animal(ABC):\n",
        "    @abstractmethod\n",
        "    def sound(self):\n",
        "        pass\n",
        "\n",
        "# Derived class Cow\n",
        "class Cow(Animal):\n",
        "    def sound(self):\n",
        "        return \"Moo\"\n",
        "\n",
        "# Derived class Sheep\n",
        "class Sheep(Animal):\n",
        "    def sound(self):\n",
        "        return \"Baa\"\n",
        "\n",
        "# Example usage\n",
        "cow = Cow()\n",
        "print(f\"Cow sound: {cow.sound()}\")\n",
        "\n",
        "sheep = Sheep()\n",
        "print(f\"Sheep sound: {sheep.sound()}\")\n"
      ],
      "metadata": {
        "colab": {
          "base_uri": "https://localhost:8080/"
        },
        "id": "YsflkYw28z3l",
        "outputId": "ad0a70e5-6d06-4e59-ecf0-644328468ad0"
      },
      "execution_count": 16,
      "outputs": [
        {
          "output_type": "stream",
          "name": "stdout",
          "text": [
            "Cow sound: Moo\n",
            "Sheep sound: Baa\n"
          ]
        }
      ]
    },
    {
      "cell_type": "markdown",
      "source": [
        "17. Create a class Book with attributes title, author, and year_published. Add a method get_book_info() that\n",
        "returns a formatted string with the book's details."
      ],
      "metadata": {
        "id": "Wn37tqxN9kEs"
      }
    },
    {
      "cell_type": "code",
      "source": [
        "class Book:\n",
        "    def __init__(self, title, author, year_published):\n",
        "        self.title = title\n",
        "        self.author = author\n",
        "        self.year_published = year_published\n",
        "\n",
        "    # Method to return a formatted string with the book's details\n",
        "    def get_book_info(self):\n",
        "        return f\"Title: {self.title}\\nAuthor: {self.author}\\nYear Published: {self.year_published}\"\n",
        "\n",
        "# Example usage\n",
        "book = Book(\"1984\", \"George Orwell\", 1949)\n",
        "print(book.get_book_info())"
      ],
      "metadata": {
        "colab": {
          "base_uri": "https://localhost:8080/"
        },
        "id": "p-4fzq_X9QPJ",
        "outputId": "b177d8fe-b867-4187-8c68-0969d83834af"
      },
      "execution_count": 17,
      "outputs": [
        {
          "output_type": "stream",
          "name": "stdout",
          "text": [
            "Title: 1984\n",
            "Author: George Orwell\n",
            "Year Published: 1949\n"
          ]
        }
      ]
    },
    {
      "cell_type": "markdown",
      "source": [
        "18. Create a class House with attributes address and price. Create a derived class Mansion that adds an\n",
        "attribute number_of_rooms."
      ],
      "metadata": {
        "id": "LCF_ZXXz-zWB"
      }
    },
    {
      "cell_type": "code",
      "source": [
        "class House:\n",
        "    def __init__(self, address, price):\n",
        "        self.address = address\n",
        "        self.price = price\n",
        "\n",
        "    def get_house_info(self):\n",
        "        return f\"Address: {self.address}\\nPrice: ${self.price}\"\n",
        "\n",
        "# Derived class Mansion\n",
        "class Mansion(House):\n",
        "    def __init__(self, address, price, number_of_rooms):\n",
        "        super().__init__(address, price)  # Calling the parent class constructor\n",
        "        self.number_of_rooms = number_of_rooms\n",
        "\n",
        "    def get_mansion_info(self):\n",
        "        house_info = self.get_house_info()  # Get the house info from parent class\n",
        "        return f\"{house_info}\\nNumber of Rooms: {self.number_of_rooms}\"\n",
        "\n",
        "# Example usage\n",
        "house = House(\"123 Main St\", 250000)\n",
        "print(house.get_house_info())\n",
        "\n",
        "mansion = Mansion(\"456 Luxury Rd\", 5000000, 15)\n",
        "print(mansion.get_mansion_info())"
      ],
      "metadata": {
        "colab": {
          "base_uri": "https://localhost:8080/"
        },
        "id": "0AFiFgA9-X0s",
        "outputId": "4ca1937f-726b-4606-dda5-e9b9b968a399"
      },
      "execution_count": 18,
      "outputs": [
        {
          "output_type": "stream",
          "name": "stdout",
          "text": [
            "Address: 123 Main St\n",
            "Price: $250000\n",
            "Address: 456 Luxury Rd\n",
            "Price: $5000000\n",
            "Number of Rooms: 15\n"
          ]
        }
      ]
    }
  ]
}